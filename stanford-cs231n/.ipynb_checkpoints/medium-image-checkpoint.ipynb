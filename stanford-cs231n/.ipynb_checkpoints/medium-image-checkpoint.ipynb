{
 "cells": [
  {
   "cell_type": "markdown",
   "metadata": {},
   "source": [
    "This code will create an average image with the same image label in the dataset\n",
    "The average image will be used as the weight of an SVM"
   ]
  },
  {
   "cell_type": "code",
   "execution_count": 1,
   "metadata": {},
   "outputs": [],
   "source": [
    "import pickle\n",
    "import numpy as np\n",
    "from matplotlib import image\n",
    "from matplotlib import pyplot as plt\n",
    "import cv2"
   ]
  },
  {
   "cell_type": "code",
   "execution_count": 70,
   "metadata": {},
   "outputs": [],
   "source": [
    "def unpickle(file):\n",
    "    import pickle\n",
    "    with open(file, 'rb') as fo:\n",
    "        dict = pickle.load(fo, encoding='bytes')\n",
    "    return dict\n",
    "\n",
    "def avg_img(img_data):\n",
    "    \n",
    "    avg_img = np.zeros((3072), dtype='float')\n",
    "    count = 0\n",
    "    for i in range(len(img_data)):\n",
    "        if img_labes[i] == 1:\n",
    "            avg_img = np.add(avg_img, img_data[i])\n",
    "            count +=1\n",
    "            #if count == 2000:\n",
    "            #    break\n",
    "    return np.transpose(np.reshape(avg_img/count,(3,32,32)), (1,2,0))\n",
    "    "
   ]
  },
  {
   "cell_type": "code",
   "execution_count": 72,
   "metadata": {},
   "outputs": [
    {
     "data": {
      "image/png": "[encoded data removed]",
      "text/plain": [
       "<matplotlib.figure.Figure at 0x7f030455d320>"
      ]
     },
     "metadata": {},
     "output_type": "display_data"
    }
   ],
   "source": [
    "label_names = unpickle('../data/cifar-10-batches-py/batches.meta')\n",
    "batch_1 = unpickle('../data/cifar-10-batches-py/data_batch_1')\n",
    "batch_2 = unpickle('../data/cifar-10-batches-py/data_batch_1')\n",
    "\n",
    "\n",
    "img_data = batch_1[b'data'] + batch_2[b'data']\n",
    "img_labes = batch_1[b'labels']\n",
    "img = avg_img(img_data)\n",
    "\n",
    "plt.imshow(img.astype(dtype='uint8'))\n",
    "plt.show()\n",
    "\n",
    "\n"
   ]
  },
  {
   "cell_type": "code",
   "execution_count": null,
   "metadata": {},
   "outputs": [],
   "source": []
  },
  {
   "cell_type": "code",
   "execution_count": null,
   "metadata": {},
   "outputs": [],
   "source": [
    "\n",
    "\n",
    "\n"
   ]
  }
 ],
 "metadata": {
  "kernelspec": {
   "display_name": "Python 3",
   "language": "python",
   "name": "python3"
  },
  "language_info": {
   "codemirror_mode": {
    "name": "ipython",
    "version": 3
   },
   "file_extension": ".py",
   "mimetype": "text/x-python",
   "name": "python",
   "nbconvert_exporter": "python",
   "pygments_lexer": "ipython3",
   "version": "3.5.2"
  }
 },
 "nbformat": 4,
 "nbformat_minor": 2
}

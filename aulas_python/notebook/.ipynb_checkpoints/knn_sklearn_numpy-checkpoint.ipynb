{
 "cells": [
  {
   "cell_type": "code",
   "execution_count": 13,
   "metadata": {},
   "outputs": [],
   "source": [
    "\"\"\"\n",
    "    Este programa tem como objetivo aplicar o classificador kNN no dataset balance-scale.\n",
    "    A implementacao e feita utilizando Numpy e sklearn\n",
    "    \n",
    "    Descricao do dataset:\n",
    "    \n",
    "    This data set was generated to model psychological experimental results.\n",
    "    Each example is classified as having the balance scale tip to the right, \n",
    "    tip to the left, or be balanced. The attributes are the left weight, the left distance, \n",
    "    the right weight, and the right distance. The correct way to find the class is the greater\n",
    "    of (left-distance * left-weight) and (right-distance * right-weight). If they are equal,\n",
    "    it is balanced.\n",
    "    \n",
    "    1. Class Name: 3 (L, B, R) \n",
    "    2. Left-Weight: 5 (1, 2, 3, 4, 5) \n",
    "    3. Left-Distance: 5 (1, 2, 3, 4, 5) \n",
    "    4. Right-Weight: 5 (1, 2, 3, 4, 5) \n",
    "    5. Right-Distance: 5 (1, 2, 3, 4, 5)\n",
    "\"\"\"\n",
    "\n",
    "import numpy as np\n",
    "\n",
    "#Lib utilizada para construir os datasets de treinamento e teste baseado no dataset completo\n",
    "from sklearn.model_selection import train_test_split\n",
    "\n",
    "#Importa o classificados kNN do sklearn\n",
    "from sklearn.neighbors import KNeighborsClassifier"
   ]
  },
  {
   "cell_type": "code",
   "execution_count": 59,
   "metadata": {},
   "outputs": [],
   "source": [
    "#Carregar o dataset\n",
    "\n",
    "#parameros utilizados para classificar\n",
    "x = np.genfromtxt(\"../../data/balance-scale.data\", delimiter=',', usecols=(1,2,3,4))\n",
    "#parametros resultantes (classes)\n",
    "y = np.genfromtxt(\"../../data/balance-scale.data\", delimiter=',', usecols=(0))\n"
   ]
  },
  {
   "cell_type": "code",
   "execution_count": 34,
   "metadata": {},
   "outputs": [],
   "source": [
    "#Segmentar o dataset em conjuntos de treinamento e teste\n",
    "\n",
    "#Esta funcao recebe os arrays de atributos e classes para dividi-los em datasets de \n",
    "#treinamento e teste\n",
    "x_treino,x_teste,y_treino,y_teste = train_test_split(x,y,test_size=0.33,random_state=42)\n"
   ]
  },
  {
   "cell_type": "code",
   "execution_count": 44,
   "metadata": {},
   "outputs": [],
   "source": [
    "def classif_kNN(x_train, y_train, x_test, y_test, k):\n",
    "    knn = KNeighborsClassifier(n_neighbors=k)\n",
    "    \n",
    "    knn.fit(x_train, y_train)\n",
    "    \n",
    "    labels = knn.predict(x_test)\n",
    "    right = 0\n",
    "    i = 0\n",
    "    for t in y_test:\n",
    "        if t == labels[i]:\n",
    "            right += 1\n",
    "        i+=1\n",
    "    \n",
    "    print(\"Taxa de acerto para %d imagens de teste: %.2f%%\" % (len(x_teste), 100*(right/len(x_test))))\n",
    "    "
   ]
  },
  {
   "cell_type": "code",
   "execution_count": 58,
   "metadata": {},
   "outputs": [
    {
     "name": "stdout",
     "output_type": "stream",
     "text": [
      "Taxa de acerto para 207 imagens de teste: 86.47%\n",
      "CPU times: user 4 ms, sys: 0 ns, total: 4 ms\n",
      "Wall time: 2.24 ms\n"
     ]
    }
   ],
   "source": [
    "%%time\n",
    "k = 10\n",
    "\n",
    "classif_kNN(x_treino,y_treino,x_teste,y_teste,k)\n"
   ]
  }
 ],
 "metadata": {
  "kernelspec": {
   "display_name": "Python 3",
   "language": "python",
   "name": "python3"
  },
  "language_info": {
   "codemirror_mode": {
    "name": "ipython",
    "version": 3
   },
   "file_extension": ".py",
   "mimetype": "text/x-python",
   "name": "python",
   "nbconvert_exporter": "python",
   "pygments_lexer": "ipython3",
   "version": "3.5.2"
  }
 },
 "nbformat": 4,
 "nbformat_minor": 2
}
